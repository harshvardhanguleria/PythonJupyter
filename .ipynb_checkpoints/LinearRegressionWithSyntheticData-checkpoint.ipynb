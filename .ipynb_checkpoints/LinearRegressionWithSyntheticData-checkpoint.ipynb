{
 "cells": [
  {
   "cell_type": "markdown",
   "metadata": {},
   "source": [
    "# Learning objectives:\n",
    "After doing this exercise, you'll know how to do the following:\n",
    "\n",
    "Tune the following hyperparameters:\n",
    "1. learning rate\n",
    "2. number of epochs\n",
    "3. batch size\n",
    "\n",
    "Interpret different kinds of loss curves."
   ]
  },
  {
   "cell_type": "code",
   "execution_count": 2,
   "metadata": {},
   "outputs": [],
   "source": [
    "# importing relevant libraries\n",
    "import tensorflow as tf\n",
    "import pandas as pd\n",
    "import matplotlib.pyplot as plt\n",
    "\n",
    "import warnings\n",
    "warnings.filterwarnings('ignore')"
   ]
  },
  {
   "cell_type": "markdown",
   "metadata": {},
   "source": [
    "# Define functions that build and train a model\n",
    "The following code defines two functions:\n",
    "\n",
    "1. build_model(my_learning_rate), which builds an empty model.\n",
    "2. train_model(model, feature, label, epochs), which trains the model from the examples (feature and label) you pass.\n",
    "\n",
    "Since you don't need to understand model building code right now, we've hidden this code cell. You may optionally double-click the headline to explore this code."
   ]
  },
  {
   "cell_type": "code",
   "execution_count": 8,
   "metadata": {},
   "outputs": [
    {
     "name": "stdout",
     "output_type": "stream",
     "text": [
      "Defined create_model and train_model\n"
     ]
    }
   ],
   "source": [
    "def build_model(my_learning_rate):\n",
    "    \"\"\"Create and compile a simple linear regression model.\"\"\"\n",
    "    # Most simple tf.keras models are sequential.\n",
    "    # A sequential model contains one or more layers.\n",
    "    model = tf.keras.models.Sequential()\n",
    "\n",
    "    # Describe the topography of the model.\n",
    "    # The topography of a simple linear regression model \n",
    "    # is a single node in a single layer.\n",
    "    model.add(tf.keras.layers.Dense(units=1, input_shape=(1,)))\n",
    "\n",
    "    # Compile the model topography into code that\n",
    "    # TensorFlow can efficiently execute. Configure\n",
    "    # training to minimize the model's mean squared error.\n",
    "    model.compile(optimizer=tf.keras.optimizers.RMSprop(lr=my_learning_rate),\n",
    "                    loss=\"mean_squared_error\",\n",
    "                    metrics=[tf.keras.metrics.RootMeanSquaredError()])\n",
    "    return model\n",
    "\n",
    "def train_model(model, feature, label, epochs, batch_size):\n",
    "    \"\"\"Train the model by feeding it data\"\"\"\n",
    "\n",
    "    # Feed teh feature values and the label values to the model. \n",
    "    # The model will train for the specified number\n",
    "    # of epochs, gradually learning how the feature values\n",
    "    # relate to the label values.\n",
    "    history = model.fit(x=feature, y=label, \n",
    "                        batch_size=batch_size,\n",
    "                        epochs=epochs)\n",
    "\n",
    "    # Gather the trained model's weight and bias.\n",
    "    trained_weight = model.get_weights()[0]\n",
    "    trained_bias = model.get_weights()[1]\n",
    "\n",
    "    # The list of epochs is stored separately from the\n",
    "    # rest of history.\n",
    "    epochs = history.epoch\n",
    "\n",
    "    # Gather the istory (a snapshot) of each epoch.\n",
    "    hist = pd.DataFrame(history.history)\n",
    "\n",
    "    # Specifically gather the model's root mean\n",
    "    # squared error at each epoch.\n",
    "    rmse = hist[\"root_mean_squared_error\"]\n",
    "\n",
    "    return trained_weight, trained_bias, epochs, rmse\n",
    "\n",
    "print(\"Defined create_model and train_model\")"
   ]
  },
  {
   "cell_type": "markdown",
   "metadata": {},
   "source": [
    "# Define plotting functions\n",
    "We're using a popular Python library called Matplotlib to create the following two plots:\n",
    "1. a plot of the feature values vs. the label values, and a line showing the output of the trained model.\n",
    "2. a loss curve.\n",
    "\n",
    "We hid the following code cell because learning Matplotlib is not relevant to the learning objectives. Regardless, you must still run all hidden code cells."
   ]
  },
  {
   "cell_type": "code",
   "execution_count": 11,
   "metadata": {},
   "outputs": [
    {
     "name": "stdout",
     "output_type": "stream",
     "text": [
      "Defined the plot_the_model and plot_the_loss+curce functions.\n"
     ]
    }
   ],
   "source": [
    "def plot_the_model(trained_weight, trained_bias, feature, label):\n",
    "    \"\"\"Plot the trained model against the trainng feature and label.\"\"\"\n",
    "    \n",
    "    # Label the axes.\n",
    "    plt.xlabel(\"feature\")\n",
    "    plt.ylabel(\"label\")\n",
    "\n",
    "    # Plot the feature values vs. label values.\n",
    "    plt.scatter(feature, label)\n",
    "\n",
    "    # Create a red line representing the model. The red line starts\n",
    "    # at coordinates (x0, y0) and ends at coodinates (x1, y1).\n",
    "    x0 = 0\n",
    "    y0 = trained_bias\n",
    "    x1 = feature[-1]\n",
    "    y1 = trained_bias + (trained_weight * x1)\n",
    "    plt.plot([x0, x1], [y0, y1], c = 'r')\n",
    "\n",
    "    # Render the scatter plot and the red line.\n",
    "    plt.show()\n",
    "\n",
    "def plot_the_loss_curve(epochs, rmse):\n",
    "    \"\"\"Plot the loss curve, which shows loss vs. epoch.\"\"\"\n",
    "\n",
    "    plt.figure()\n",
    "    plt.xlabel(\"Epoch\")\n",
    "    plt.ylabel(\"Root Mean Squared Error\")\n",
    "\n",
    "    plt.plot(epochs, rmse, label=\"Loss\")\n",
    "    plt.legend()\n",
    "    plt.ylim([rmse.min() * 0.97, rmse.max()])\n",
    "    plt.show()\n",
    "\n",
    "print(\"Defined the plot_the_model and plot_the_loss+curce functions.\")"
   ]
  },
  {
   "cell_type": "markdown",
   "metadata": {},
   "source": [
    "# Define the dataset\n",
    "The dataset consists of 12 examples. Each example consists of one feature and one label."
   ]
  },
  {
   "cell_type": "code",
   "execution_count": 5,
   "metadata": {},
   "outputs": [],
   "source": [
    "my_feature = ([1.0, 2.0,  3.0,  4.0,  5.0,  6.0,  7.0,  8.0,  9.0, 10.0, 11.0, 12.0])\n",
    "my_label   = ([5.0, 8.8,  9.6, 14.2, 18.8, 19.5, 21.4, 26.8, 28.9, 32.0, 33.8, 38.2])"
   ]
  },
  {
   "cell_type": "markdown",
   "metadata": {},
   "source": [
    "# Specify the hyperparameters\n",
    "The hyperparameters in this Colab are as follows:\n",
    "1. learning rate\n",
    "2. epochs\n",
    "3. batch_size\n",
    "\n",
    "The following code cell initializes these hyperparameters and then invokes the functions that build and train the model."
   ]
  },
  {
   "cell_type": "code",
   "execution_count": 12,
   "metadata": {},
   "outputs": [
    {
     "name": "stdout",
     "output_type": "stream",
     "text": [
      "Epoch 1/10\n",
      "1/1 [==============================] - 1s 840ms/step - loss: 1059.2650 - root_mean_squared_error: 32.5464\n",
      "Epoch 2/10\n",
      "1/1 [==============================] - 0s 18ms/step - loss: 1042.3507 - root_mean_squared_error: 32.2855\n",
      "Epoch 3/10\n",
      "1/1 [==============================] - 0s 11ms/step - loss: 1030.2118 - root_mean_squared_error: 32.0969\n",
      "Epoch 4/10\n",
      "1/1 [==============================] - 0s 16ms/step - loss: 1020.1255 - root_mean_squared_error: 31.9394\n",
      "Epoch 5/10\n",
      "1/1 [==============================] - 0s 11ms/step - loss: 1011.2290 - root_mean_squared_error: 31.7998\n",
      "Epoch 6/10\n",
      "1/1 [==============================] - 0s 16ms/step - loss: 1003.1219 - root_mean_squared_error: 31.6721\n",
      "Epoch 7/10\n",
      "1/1 [==============================] - 0s 13ms/step - loss: 995.5817 - root_mean_squared_error: 31.5528\n",
      "Epoch 8/10\n",
      "1/1 [==============================] - 0s 11ms/step - loss: 988.4695 - root_mean_squared_error: 31.4399\n",
      "Epoch 9/10\n",
      "1/1 [==============================] - 0s 15ms/step - loss: 981.6932 - root_mean_squared_error: 31.3320\n",
      "Epoch 10/10\n",
      "1/1 [==============================] - 0s 13ms/step - loss: 975.1870 - root_mean_squared_error: 31.2280\n"
     ]
    },
    {
     "data": {
      "image/png": "[encoded data removed]",
      "text/plain": [
       "<Figure size 432x288 with 1 Axes>"
      ]
     },
     "metadata": {
      "needs_background": "light"
     },
     "output_type": "display_data"
    },
    {
     "data": {
      "image/png": "[encoded data removed]",
      "text/plain": [
       "<Figure size 432x288 with 1 Axes>"
      ]
     },
     "metadata": {
      "needs_background": "light"
     },
     "output_type": "display_data"
    }
   ],
   "source": [
    "learning_rate = 0.01\n",
    "epochs = 10\n",
    "my_batch_size = 12\n",
    "\n",
    "my_model = build_model(learning_rate)\n",
    "trained_weight, trained_bias, epochs, rmse = train_model(my_model, my_feature,\n",
    "                                                        my_label, epochs,\n",
    "                                                        my_batch_size)\n",
    "plot_the_model(trained_weight, trained_bias, my_feature, my_label)\n",
    "plot_the_loss_curve(epochs, rmse)"
   ]
  },
  {
   "cell_type": "markdown",
   "metadata": {},
   "source": [
    "# Task 1: Examine the graphs\n",
    "Examine the top graph. The blue dots identify the actual data; the red line identifies the output of the trained model. Ideally, the red line should align nicely with the blue dots. Does it? Probably not.\n",
    "\n",
    "A certain amount of randomness plays into training a model, so you'll get somewhat different results every time you train. That said, unless you are an extremely lucky person, the red line probably doesn't align nicely with the blue dots.\n",
    "\n",
    "Examine the bottom graph, which shows the loss curve. Notice that the loss curve decreases but doesn't flatten out, which is a sign that the model hasn't trained sufficiently."
   ]
  },
  {
   "cell_type": "markdown",
   "metadata": {},
   "source": [
    "# Task 2: Increase the number of epochs\n",
    "Training loss should steadily decrease, steeply at first, and then more slowly. Eventually, training loss should eventually stay steady (zero slope or nearly zero slope), which indicates that training has converged.\n",
    "\n",
    "In Task 1, the training loss did not converge. One possible solution is to train for more epochs. Your task is to increase the number of epochs sufficiently to get the model to converge. However, it is inefficient to train past convergence, so don't just set the number of epochs to an arbitrarily high value.\n",
    "\n",
    "Examine the loss curve. Does the model converge?"
   ]
  },
  {
   "cell_type": "code",
   "execution_count": null,
   "metadata": {},
   "outputs": [],
   "source": []
  }
 ],
 "metadata": {
  "interpreter": {
   "hash": "31f2aee4e71d21fbe5cf8b01ff0e069b9275f58929596ceb00d14d90e3e16cd6"
  },
  "kernelspec": {
   "display_name": "Python 3 (ipykernel)",
   "language": "python",
   "name": "python3"
  },
  "language_info": {
   "codemirror_mode": {
    "name": "ipython",
    "version": 3
   },
   "file_extension": ".py",
   "mimetype": "text/x-python",
   "name": "python",
   "nbconvert_exporter": "python",
   "pygments_lexer": "ipython3",
   "version": "3.8.10"
  }
 },
 "nbformat": 4,
 "nbformat_minor": 2
}
