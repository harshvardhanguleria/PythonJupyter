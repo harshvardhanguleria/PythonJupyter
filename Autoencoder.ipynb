{
 "cells": [
  {
   "cell_type": "code",
   "execution_count": 13,
   "metadata": {},
   "outputs": [],
   "source": [
    "from keras.datasets import mnist\n",
    "import numpy as np"
   ]
  },
  {
   "cell_type": "code",
   "execution_count": 14,
   "metadata": {},
   "outputs": [],
   "source": [
    "(x_train, _), (x_test, _) = mnist.load_data()"
   ]
  },
  {
   "cell_type": "code",
   "execution_count": 15,
   "metadata": {},
   "outputs": [
    {
     "name": "stdout",
     "output_type": "stream",
     "text": [
      "(60000, 784)\n",
      "(10000, 784)\n"
     ]
    }
   ],
   "source": [
    "x_train = x_train.astype('float32') / 255\n",
    "x_test = x_test.astype('float32') / 255\n",
    "x_train = x_train.reshape((len(x_train), np.prod(x_train.shape[1:])))\n",
    "x_test = x_test.reshape((len(x_test), np.prod(x_test.shape[1:])))\n",
    "print(x_train.shape)\n",
    "print(x_test.shape)"
   ]
  },
  {
   "cell_type": "code",
   "execution_count": 16,
   "metadata": {},
   "outputs": [
    {
     "data": {
      "image/png": "[encoded data removed]",
      "text/plain": [
       "<Figure size 432x288 with 1 Axes>"
      ]
     },
     "metadata": {
      "needs_background": "light"
     },
     "output_type": "display_data"
    }
   ],
   "source": [
    "import matplotlib.pyplot as plt\n",
    "plt.imshow(x_test[0].reshape(28, 28))\n",
    "plt.gray()"
   ]
  },
  {
   "cell_type": "code",
   "execution_count": 17,
   "metadata": {},
   "outputs": [],
   "source": [
    "import keras\n",
    "from keras import layers\n",
    "\n",
    "encoding_dimension = 24\n",
    "# 24 float, it means that we have a compression factor of 784\n",
    "# (image input shape) / 24 = 32.7\n",
    "\n",
    "input_image = keras.Input(shape = (784,))\n",
    "encoded = layers.Dense(encoding_dimension, activation = 'relu') (input_image)\n",
    "decoded = layers.Dense(784, activation = 'sigmoid') (encoded)\n",
    "\n",
    "autoencoder = keras.Model(input_image, decoded)\n",
    "\n",
    "encoder = keras.Model(input_image, encoded)\n",
    "\n",
    "encoded_input = keras.Input(shape = (encoding_dimension, ))\n",
    "decoder_layer = autoencoder.layers[-1]\n",
    "decoder = keras.Model(encoded_input, decoder_layer(encoded_input))\n",
    "\n",
    "autoencoder.compile(optimizer = 'adam', loss = 'binary_crossentropy')\n",
    "# per-pixel binary crossentropy loss"
   ]
  },
  {
   "cell_type": "code",
   "execution_count": 18,
   "metadata": {},
   "outputs": [
    {
     "name": "stdout",
     "output_type": "stream",
     "text": [
      "Epoch 1/50\n",
      "235/235 [==============================] - 4s 15ms/step - loss: 0.2901 - val_loss: 0.2036\n",
      "Epoch 2/50\n",
      "235/235 [==============================] - 4s 17ms/step - loss: 0.1832 - val_loss: 0.1656\n",
      "Epoch 3/50\n",
      "235/235 [==============================] - 4s 16ms/step - loss: 0.1562 - val_loss: 0.1455\n",
      "Epoch 4/50\n",
      "235/235 [==============================] - 3s 14ms/step - loss: 0.1401 - val_loss: 0.1330\n",
      "Epoch 5/50\n",
      "235/235 [==============================] - 3s 15ms/step - loss: 0.1303 - val_loss: 0.1252\n",
      "Epoch 6/50\n",
      "235/235 [==============================] - 4s 15ms/step - loss: 0.1241 - val_loss: 0.1204\n",
      "Epoch 7/50\n",
      "235/235 [==============================] - 4s 16ms/step - loss: 0.1201 - val_loss: 0.1170\n",
      "Epoch 8/50\n",
      "235/235 [==============================] - 5s 20ms/step - loss: 0.1170 - val_loss: 0.1143\n",
      "Epoch 9/50\n",
      "235/235 [==============================] - 5s 19ms/step - loss: 0.1144 - val_loss: 0.1118\n",
      "Epoch 10/50\n",
      "235/235 [==============================] - 5s 19ms/step - loss: 0.1123 - val_loss: 0.1100\n",
      "Epoch 11/50\n",
      "235/235 [==============================] - 5s 20ms/step - loss: 0.1106 - val_loss: 0.1084\n",
      "Epoch 12/50\n",
      "235/235 [==============================] - 5s 19ms/step - loss: 0.1093 - val_loss: 0.1074\n",
      "Epoch 13/50\n",
      "235/235 [==============================] - 4s 19ms/step - loss: 0.1084 - val_loss: 0.1067\n",
      "Epoch 14/50\n",
      "235/235 [==============================] - 5s 21ms/step - loss: 0.1078 - val_loss: 0.1063\n",
      "Epoch 15/50\n",
      "235/235 [==============================] - 5s 19ms/step - loss: 0.1074 - val_loss: 0.1058\n",
      "Epoch 16/50\n",
      "235/235 [==============================] - 4s 19ms/step - loss: 0.1071 - val_loss: 0.1056\n",
      "Epoch 17/50\n",
      "235/235 [==============================] - 5s 19ms/step - loss: 0.1069 - val_loss: 0.1054\n",
      "Epoch 18/50\n",
      "235/235 [==============================] - 4s 18ms/step - loss: 0.1067 - val_loss: 0.1052\n",
      "Epoch 19/50\n",
      "235/235 [==============================] - 5s 20ms/step - loss: 0.1066 - val_loss: 0.1051\n",
      "Epoch 20/50\n",
      "235/235 [==============================] - 4s 19ms/step - loss: 0.1065 - val_loss: 0.1050\n",
      "Epoch 21/50\n",
      "235/235 [==============================] - 4s 18ms/step - loss: 0.1064 - val_loss: 0.1049\n",
      "Epoch 22/50\n",
      "235/235 [==============================] - 5s 20ms/step - loss: 0.1063 - val_loss: 0.1048\n",
      "Epoch 23/50\n",
      "235/235 [==============================] - 5s 19ms/step - loss: 0.1063 - val_loss: 0.1048\n",
      "Epoch 24/50\n",
      "235/235 [==============================] - 5s 19ms/step - loss: 0.1062 - val_loss: 0.1047\n",
      "Epoch 25/50\n",
      "235/235 [==============================] - 5s 23ms/step - loss: 0.1061 - val_loss: 0.1047\n",
      "Epoch 26/50\n",
      "235/235 [==============================] - 5s 20ms/step - loss: 0.1061 - val_loss: 0.1046\n",
      "Epoch 27/50\n",
      "235/235 [==============================] - 5s 21ms/step - loss: 0.1061 - val_loss: 0.1046\n",
      "Epoch 28/50\n",
      "235/235 [==============================] - 4s 19ms/step - loss: 0.1060 - val_loss: 0.1045\n",
      "Epoch 29/50\n",
      "235/235 [==============================] - 5s 20ms/step - loss: 0.1060 - val_loss: 0.1045\n",
      "Epoch 30/50\n",
      "235/235 [==============================] - 5s 20ms/step - loss: 0.1060 - val_loss: 0.1047\n",
      "Epoch 31/50\n",
      "235/235 [==============================] - 4s 18ms/step - loss: 0.1059 - val_loss: 0.1045\n",
      "Epoch 32/50\n",
      "235/235 [==============================] - 4s 18ms/step - loss: 0.1059 - val_loss: 0.1044\n",
      "Epoch 33/50\n",
      "235/235 [==============================] - 5s 19ms/step - loss: 0.1059 - val_loss: 0.1043\n",
      "Epoch 34/50\n",
      "235/235 [==============================] - 5s 20ms/step - loss: 0.1058 - val_loss: 0.1045\n",
      "Epoch 35/50\n",
      "235/235 [==============================] - 5s 19ms/step - loss: 0.1058 - val_loss: 0.1044\n",
      "Epoch 36/50\n",
      "235/235 [==============================] - 5s 20ms/step - loss: 0.1058 - val_loss: 0.1044\n",
      "Epoch 37/50\n",
      "235/235 [==============================] - 4s 18ms/step - loss: 0.1058 - val_loss: 0.1044\n",
      "Epoch 38/50\n",
      "235/235 [==============================] - 5s 21ms/step - loss: 0.1057 - val_loss: 0.1043\n",
      "Epoch 39/50\n",
      "235/235 [==============================] - 4s 19ms/step - loss: 0.1057 - val_loss: 0.1043\n",
      "Epoch 40/50\n",
      "235/235 [==============================] - 4s 18ms/step - loss: 0.1057 - val_loss: 0.1043\n",
      "Epoch 41/50\n",
      "235/235 [==============================] - 5s 20ms/step - loss: 0.1057 - val_loss: 0.1044\n",
      "Epoch 42/50\n",
      "235/235 [==============================] - 5s 19ms/step - loss: 0.1057 - val_loss: 0.1043\n",
      "Epoch 43/50\n",
      "235/235 [==============================] - 6s 26ms/step - loss: 0.1057 - val_loss: 0.1042\n",
      "Epoch 44/50\n",
      "235/235 [==============================] - 5s 21ms/step - loss: 0.1056 - val_loss: 0.1042\n",
      "Epoch 45/50\n",
      "235/235 [==============================] - 4s 18ms/step - loss: 0.1056 - val_loss: 0.1042\n",
      "Epoch 46/50\n",
      "235/235 [==============================] - 5s 19ms/step - loss: 0.1056 - val_loss: 0.1042\n",
      "Epoch 47/50\n",
      "235/235 [==============================] - 5s 20ms/step - loss: 0.1056 - val_loss: 0.1041\n",
      "Epoch 48/50\n",
      "235/235 [==============================] - 4s 19ms/step - loss: 0.1056 - val_loss: 0.1041\n",
      "Epoch 49/50\n",
      "235/235 [==============================] - 5s 19ms/step - loss: 0.1056 - val_loss: 0.1043\n",
      "Epoch 50/50\n",
      "235/235 [==============================] - 5s 19ms/step - loss: 0.1056 - val_loss: 0.1041\n"
     ]
    }
   ],
   "source": [
    "autoencoder.fit(x_train, x_train, epochs = 50, batch_size = 256, \n",
    "                    shuffle = True, validation_data = (x_test, x_test))\n",
    "\n",
    "encoded_images = encoder.predict(x_test)\n",
    "decoded_images = decoder.predict(encoded_images)"
   ]
  },
  {
   "cell_type": "code",
   "execution_count": 19,
   "metadata": {},
   "outputs": [
    {
     "data": {
      "image/png": "[encoded data removed]",
      "text/plain": [
       "<Figure size 648x288 with 2 Axes>"
      ]
     },
     "metadata": {
      "needs_background": "light"
     },
     "output_type": "display_data"
    }
   ],
   "source": [
    "plt.figure(figsize = (9, 4))\n",
    "plt.subplot(121)\n",
    "plt.imshow(x_test[0].reshape(28, 28))\n",
    "plt.gray()\n",
    "plt.subplot(122)\n",
    "plt.imshow(decoded_images[0].reshape(28, 28))\n",
    "plt.gray()"
   ]
  },
  {
   "cell_type": "code",
   "execution_count": null,
   "metadata": {},
   "outputs": [],
   "source": []
  }
 ],
 "metadata": {
  "interpreter": {
   "hash": "916dbcbb3f70747c44a77c7bcd40155683ae19c65e1c03b4aa3499c5328201f1"
  },
  "kernelspec": {
   "display_name": "Python 3.8.10 64-bit",
   "language": "python",
   "name": "python3"
  },
  "language_info": {
   "codemirror_mode": {
    "name": "ipython",
    "version": 3
   },
   "file_extension": ".py",
   "mimetype": "text/x-python",
   "name": "python",
   "nbconvert_exporter": "python",
   "pygments_lexer": "ipython3",
   "version": "3.8.10"
  },
  "orig_nbformat": 4
 },
 "nbformat": 4,
 "nbformat_minor": 2
}
