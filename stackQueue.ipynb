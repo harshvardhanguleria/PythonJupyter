{
 "cells": [
  {
   "cell_type": "code",
   "execution_count": 1,
   "source": [
    "letters = list()\n",
    "\n",
    "print(\"Letters stack -> \", letters)\n",
    "letters.append('a')\n",
    "print(\"Letters stack -> \", letters)\n",
    "letters.append('m')\n",
    "print(\"Letters stack -> \", letters)\n",
    "letters.append('p')\n",
    "print(\"Letters stack -> \", letters)\n",
    "letters.append('l')\n",
    "print(\"Letters stack -> \", letters)\n",
    "letters.append('e')\n",
    "\n",
    "print(\"Letters stack -> \", letters)\n",
    "\n",
    "print(letters.pop())\n",
    "print(\"Letters stack -> \", letters)\n",
    "print(letters.pop())\n",
    "print(\"Letters stack -> \", letters)\n",
    "print(letters.pop())\n",
    "print(\"Letters stack -> \", letters)"
   ],
   "outputs": [
    {
     "output_type": "stream",
     "name": "stdout",
     "text": [
      "Letters stack ->  []\n",
      "Letters stack ->  ['a']\n",
      "Letters stack ->  ['a', 'm']\n",
      "Letters stack ->  ['a', 'm', 'p']\n",
      "Letters stack ->  ['a', 'm', 'p', 'l']\n",
      "Letters stack ->  ['a', 'm', 'p', 'l', 'e']\n",
      "e\n",
      "Letters stack ->  ['a', 'm', 'p', 'l']\n",
      "l\n",
      "Letters stack ->  ['a', 'm', 'p']\n",
      "p\n",
      "Letters stack ->  ['a', 'm']\n"
     ]
    }
   ],
   "metadata": {}
  },
  {
   "cell_type": "code",
   "execution_count": 3,
   "source": [
    "# dequeue stack\n",
    "from collections import deque\n",
    "\n",
    "# stack using dequeue\n",
    "numbers = deque()\n",
    "\n",
    "print(\"Numbers dequeue Stack -> \", numbers)\n",
    "numbers.append(23)\n",
    "print(\"Numbers dequeue Stack -> \", numbers)\n",
    "numbers.append(45)\n",
    "print(\"Numbers dequeue Stack -> \", numbers)\n",
    "numbers.append(12)\n",
    "print(\"Numbers dequeue Stack -> \", numbers)\n",
    "numbers.append(54)\n",
    "\n",
    "print(\"Numbers dequeue Stack -> \", numbers)\n",
    "\n",
    "print(numbers.pop())\n",
    "print(\"Numbers dequeue Stack -> \", numbers)\n",
    "print(numbers.pop())\n",
    "print(\"Numbers dequeue Stack -> \", numbers)\n",
    "print(numbers.pop())\n",
    "print(\"Numbers dequeue Stack -> \", numbers)"
   ],
   "outputs": [
    {
     "output_type": "stream",
     "name": "stdout",
     "text": [
      "Numbers dequeue Stack ->  deque([])\n",
      "Numbers dequeue Stack ->  deque([23])\n",
      "Numbers dequeue Stack ->  deque([23, 45])\n",
      "Numbers dequeue Stack ->  deque([23, 45, 12])\n",
      "Numbers dequeue Stack ->  deque([23, 45, 12, 54])\n",
      "54\n",
      "Numbers dequeue Stack ->  deque([23, 45, 12])\n",
      "12\n",
      "Numbers dequeue Stack ->  deque([23, 45])\n",
      "45\n",
      "Numbers dequeue Stack ->  deque([23])\n"
     ]
    }
   ],
   "metadata": {}
  },
  {
   "cell_type": "code",
   "execution_count": 4,
   "source": [
    "fruits = list()\n",
    "\n",
    "print(\"Fruits queue -> \", fruits)\n",
    "fruits.append('m')\n",
    "print(\"Fruits queue -> \", fruits)\n",
    "fruits.append('a')\n",
    "print(\"Fruits queue -> \", fruits)\n",
    "fruits.append('n')\n",
    "print(\"Fruits queue -> \", fruits)\n",
    "fruits.append('g')\n",
    "print(\"Fruits queue -> \", fruits)\n",
    "fruits.append('o')\n",
    "\n",
    "print(\"Fruits queue -> \", fruits)\n",
    "\n",
    "print(fruits.pop(0))\n",
    "print(\"Fruits queue -> \", fruits)\n",
    "print(fruits.pop(0))\n",
    "print(\"Fruits queue -> \", fruits)\n",
    "print(fruits.pop(0))\n",
    "print(\"Fruits queue -> \", fruits)"
   ],
   "outputs": [
    {
     "output_type": "stream",
     "name": "stdout",
     "text": [
      "Fruits queue ->  []\n",
      "Fruits queue ->  ['m']\n",
      "Fruits queue ->  ['m', 'a']\n",
      "Fruits queue ->  ['m', 'a', 'n']\n",
      "Fruits queue ->  ['m', 'a', 'n', 'g']\n",
      "Fruits queue ->  ['m', 'a', 'n', 'g', 'o']\n",
      "m\n",
      "Fruits queue ->  ['a', 'n', 'g', 'o']\n",
      "a\n",
      "Fruits queue ->  ['n', 'g', 'o']\n",
      "n\n",
      "Fruits queue ->  ['g', 'o']\n"
     ]
    }
   ],
   "metadata": {}
  },
  {
   "cell_type": "code",
   "execution_count": 5,
   "source": [
    "from collections import deque\n",
    "\n",
    "names = deque()\n",
    "\n",
    "print(\"Names dequeue Queue -> \", names)\n",
    "names.append(\"Radhika\")\n",
    "print(\"Names dequeue Queue -> \", names)\n",
    "names.append(\"Shyam\")\n",
    "print(\"Names dequeue Queue -> \", names)\n",
    "names.append(\"Ravi\")\n",
    "print(\"Names dequeue Queue -> \", names)\n",
    "names.append(\"Shivani\")\n",
    "\n",
    "print(\"Names dequeue Queue -> \", names)\n",
    "\n",
    "print(names.popleft())\n",
    "print(\"Names dequeue Queue -> \", names)\n",
    "print(names.popleft())\n",
    "print(\"Names dequeue Queue -> \", names)"
   ],
   "outputs": [
    {
     "output_type": "stream",
     "name": "stdout",
     "text": [
      "Names dequeue Queue ->  deque([])\n",
      "Names dequeue Queue ->  deque(['Radhika'])\n",
      "Names dequeue Queue ->  deque(['Radhika', 'Shyam'])\n",
      "Names dequeue Queue ->  deque(['Radhika', 'Shyam', 'Ravi'])\n",
      "Names dequeue Queue ->  deque(['Radhika', 'Shyam', 'Ravi', 'Shivani'])\n",
      "Radhika\n",
      "Names dequeue Queue ->  deque(['Shyam', 'Ravi', 'Shivani'])\n",
      "Shyam\n",
      "Names dequeue Queue ->  deque(['Ravi', 'Shivani'])\n"
     ]
    }
   ],
   "metadata": {}
  },
  {
   "cell_type": "code",
   "execution_count": null,
   "source": [],
   "outputs": [],
   "metadata": {}
  }
 ],
 "metadata": {
  "orig_nbformat": 4,
  "language_info": {
   "name": "python",
   "version": "3.8.10",
   "mimetype": "text/x-python",
   "codemirror_mode": {
    "name": "ipython",
    "version": 3
   },
   "pygments_lexer": "ipython3",
   "nbconvert_exporter": "python",
   "file_extension": ".py"
  },
  "kernelspec": {
   "name": "python3",
   "display_name": "Python 3.8.10 64-bit"
  },
  "interpreter": {
   "hash": "916dbcbb3f70747c44a77c7bcd40155683ae19c65e1c03b4aa3499c5328201f1"
  }
 },
 "nbformat": 4,
 "nbformat_minor": 2
}