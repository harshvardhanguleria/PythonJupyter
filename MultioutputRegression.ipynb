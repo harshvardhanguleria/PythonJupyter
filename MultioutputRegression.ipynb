{
 "cells": [
  {
   "cell_type": "code",
   "execution_count": 3,
   "metadata": {},
   "outputs": [
    {
     "name": "stdout",
     "output_type": "stream",
     "text": [
      "[[ 2.19477494e-01  3.29489967e-01  8.15600360e-01 ... -2.90545028e-03\n",
      "   9.64022632e-01  4.99224881e-02]\n",
      " [ 8.43368646e-01  5.64675313e-01  3.28040418e-01 ...  5.53385034e-02\n",
      "   1.36536046e-01  6.30310630e-01]\n",
      " [-1.04499819e+00 -8.83771319e-01  7.67113096e-01 ...  4.82597952e-01\n",
      "   4.20755200e-01  1.63888893e+00]\n",
      " ...\n",
      " [ 1.05533584e+00  6.93456049e-01 -4.02886049e-02 ...  1.77556598e+00\n",
      "   7.86215852e-01  1.40686786e+00]\n",
      " [-1.21333813e+00 -3.79517516e-01  4.35986196e-01 ...  9.66220863e-01\n",
      "   3.32107876e+00 -2.69836174e+00]\n",
      " [-8.13514715e-01 -1.02528191e+00  7.01965245e-01 ... -2.74046516e-01\n",
      "   8.56770375e-01  1.86000596e+00]]\n",
      "[[  49.93137149   64.08484989]\n",
      " [-117.18528328   16.60095124]\n",
      " [  39.7962203   -77.57579882]\n",
      " ...\n",
      " [  45.7601665    58.88840234]\n",
      " [ 135.21133116   97.09778198]\n",
      " [ 174.68557411  -29.41100815]]\n",
      "[50.06781717 64.564973  ]\n"
     ]
    }
   ],
   "source": [
    "from sklearn.datasets import make_regression\n",
    "from sklearn.linear_model import LinearRegression\n",
    "# create datasets\n",
    "X, y = make_regression(n_samples=1000, n_features=10, n_informative=5, n_targets=2, random_state=1, noise=0.5)\n",
    "print(X)\n",
    "print(y)\n",
    "# define model\n",
    "model = LinearRegression()\n",
    "# fit model\n",
    "model.fit(X, y)\n",
    "# make a prediction\n",
    "row = [0.21947749, 0.32948997, 0.81560036, 0.440956, -0.0606303, -0.29257894, -0.2820059, -0.00290545, 0.96402263, 0.04992249]\n",
    "yhat = model.predict([row])\n",
    "# summarize prediction\n",
    "print(yhat[0])"
   ]
  }
 ],
 "metadata": {
  "interpreter": {
   "hash": "916dbcbb3f70747c44a77c7bcd40155683ae19c65e1c03b4aa3499c5328201f1"
  },
  "kernelspec": {
   "display_name": "Python 3.8.10 64-bit",
   "language": "python",
   "name": "python3"
  },
  "language_info": {
   "codemirror_mode": {
    "name": "ipython",
    "version": 3
   },
   "file_extension": ".py",
   "mimetype": "text/x-python",
   "name": "python",
   "nbconvert_exporter": "python",
   "pygments_lexer": "ipython3",
   "version": "3.8.10"
  },
  "orig_nbformat": 4
 },
 "nbformat": 4,
 "nbformat_minor": 2
}
