{
 "cells": [
  {
   "cell_type": "code",
   "execution_count": 1,
   "source": [
    "import numpy as np"
   ],
   "outputs": [],
   "metadata": {}
  },
  {
   "cell_type": "code",
   "execution_count": 2,
   "source": [
    "one_dimensional_array = np.array([1, 2, 3, 4, 5, 6, 7, 8, 9])\n",
    "one_dimensional_array"
   ],
   "outputs": [
    {
     "output_type": "execute_result",
     "data": {
      "text/plain": [
       "array([1, 2, 3, 4, 5, 6, 7, 8, 9])"
      ]
     },
     "metadata": {},
     "execution_count": 2
    }
   ],
   "metadata": {}
  },
  {
   "cell_type": "code",
   "execution_count": 3,
   "source": [
    "two_dimensional_array = np.array([[1, 2], [3, 4], [5, 6]])\n",
    "two_dimensional_array"
   ],
   "outputs": [
    {
     "output_type": "execute_result",
     "data": {
      "text/plain": [
       "array([[1, 2],\n",
       "       [3, 4],\n",
       "       [5, 6]])"
      ]
     },
     "metadata": {},
     "execution_count": 3
    }
   ],
   "metadata": {}
  },
  {
   "cell_type": "code",
   "execution_count": 10,
   "source": [
    "ones_array = np.array([np.ones])\n",
    "print(\"ones_array:\", ones_array[1:10])\n",
    "zeros_array = np.array([np.zeros])\n",
    "zeros_array[1:10]"
   ],
   "outputs": [
    {
     "output_type": "stream",
     "name": "stdout",
     "text": [
      "ones_array: []\n"
     ]
    },
    {
     "output_type": "execute_result",
     "data": {
      "text/plain": [
       "array([], dtype=object)"
      ]
     },
     "metadata": {},
     "execution_count": 10
    }
   ],
   "metadata": {}
  },
  {
   "cell_type": "code",
   "execution_count": 17,
   "source": [
    "sequence_array = np.arange(1, 10, 1, 'int64')\n",
    "sequence_array # prints sequence or a numpy array\n",
    "# np.arange(start, stop, step/difference between two consecutive numbers, dtype)"
   ],
   "outputs": [
    {
     "output_type": "execute_result",
     "data": {
      "text/plain": [
       "array([1, 2, 3, 4, 5, 6, 7, 8, 9])"
      ]
     },
     "metadata": {},
     "execution_count": 17
    }
   ],
   "metadata": {}
  },
  {
   "cell_type": "code",
   "execution_count": 19,
   "source": [
    "random_integers_between_50_and_100 = np.random.randint(low=50, high=100, size=6, dtype='int64')\n",
    "random_integers_between_50_and_100\n",
    "# generates random integers from low to high in the form of a numpy array of some size and dtype"
   ],
   "outputs": [
    {
     "output_type": "execute_result",
     "data": {
      "text/plain": [
       "array([73, 59, 92, 55, 80, 74])"
      ]
     },
     "metadata": {},
     "execution_count": 19
    }
   ],
   "metadata": {}
  },
  {
   "cell_type": "code",
   "execution_count": 20,
   "source": [
    "random_floating_points_between_0_and_1 = np.random.random([6])\n",
    "random_floating_points_between_0_and_1\n",
    "# generates a numpy array of size 6 between 0 and 1"
   ],
   "outputs": [
    {
     "output_type": "execute_result",
     "data": {
      "text/plain": [
       "array([0.22406554, 0.26204131, 0.79160062, 0.50164632, 0.04562437,\n",
       "       0.93534082])"
      ]
     },
     "metadata": {},
     "execution_count": 20
    }
   ],
   "metadata": {}
  },
  {
   "cell_type": "code",
   "execution_count": 21,
   "source": [
    "random_floating_points_between_2_and_3 = np.random.random([6]) + 2.0\n",
    "random_floating_points_between_2_and_3\n",
    "# generates a numpy array of floating points of size 6 between 0 and 1 and then adds 2.0 \n",
    "# to each one in the array to get floating points between 2 and 3"
   ],
   "outputs": [
    {
     "output_type": "execute_result",
     "data": {
      "text/plain": [
       "array([2.20723942, 2.73479261, 2.66457967, 2.62972979, 2.23018508,\n",
       "       2.39972497])"
      ]
     },
     "metadata": {},
     "execution_count": 21
    }
   ],
   "metadata": {}
  },
  {
   "cell_type": "code",
   "execution_count": 22,
   "source": [
    "random_integers_between_150_and_300 = np.random.randint(low=50, high=100, size=6, dtype='int64') * 3\n",
    "random_integers_between_150_and_300\n",
    "# generates a numpy array of integers of size 6 between 50 and 100 and then multiplies each\n",
    "# one in the array with 3 to get random integers between 150 and 300"
   ],
   "outputs": [
    {
     "output_type": "execute_result",
     "data": {
      "text/plain": [
       "array([240, 195, 237, 150, 165, 258])"
      ]
     },
     "metadata": {},
     "execution_count": 22
    }
   ],
   "metadata": {}
  },
  {
   "cell_type": "markdown",
   "source": [
    "# Task 1: Create a Linear Dataset\n",
    "Your goal is to create a simple dataset consisting of a single feature and a label as follows:\n",
    "\n",
    "1. Assign a sequence of integers from 6 to 20 (inclusive) to a NumPy array named feature.\n",
    "2. Assign 15 values to a NumPy array named label such that:\n",
    "   \n",
    "   label = (3)(feature) + 4\n",
    "\n",
    "For example, the first value for label should be:\n",
    "  \n",
    "  label = (3)(6) + 4 = 22"
   ],
   "metadata": {}
  },
  {
   "cell_type": "code",
   "execution_count": 27,
   "source": [
    "feature = np.arange(start=6, stop=21, dtype='int64')\n",
    "print(feature)\n",
    "label = 3 * feature + 4\n",
    "print(label)"
   ],
   "outputs": [
    {
     "output_type": "stream",
     "name": "stdout",
     "text": [
      "[ 6  7  8  9 10 11 12 13 14 15 16 17 18 19 20]\n",
      "[22 25 28 31 34 37 40 43 46 49 52 55 58 61 64]\n"
     ]
    }
   ],
   "metadata": {}
  },
  {
   "cell_type": "markdown",
   "source": [
    "# Task 2: Add Some Noise to the Dataset\n",
    "To make your dataset a little more realistic, insert a little random noise into each element of the label array you already created. \n",
    "\n",
    "To be more precise, modify each value assigned to label by adding a different random floating-point value between -2 and +2.\n",
    "\n",
    "Don't rely on broadcasting. Instead, create a noise array having the same dimension as label."
   ],
   "metadata": {}
  },
  {
   "cell_type": "code",
   "execution_count": 32,
   "source": [
    "noise = np.random.random([15]) * 4 - 2\n",
    "print(noise)\n",
    "label = noise + label\n",
    "print(label)"
   ],
   "outputs": [
    {
     "output_type": "stream",
     "name": "stdout",
     "text": [
      "[-1.70544326 -1.44628975  1.51560352 -0.47403047 -1.39644     1.43725818\n",
      " -1.16779632 -0.22865178 -1.26791315  1.8277882   1.45209259  0.85997016\n",
      " -0.72273581 -1.04840598 -1.08695185]\n",
      "[20.29455674 23.55371025 29.51560352 30.52596953 32.60356    38.43725818\n",
      " 38.83220368 42.77134822 44.73208685 50.8277882  53.45209259 55.85997016\n",
      " 57.27726419 59.95159402 62.91304815]\n"
     ]
    }
   ],
   "metadata": {}
  },
  {
   "cell_type": "code",
   "execution_count": null,
   "source": [],
   "outputs": [],
   "metadata": {}
  }
 ],
 "metadata": {
  "orig_nbformat": 4,
  "language_info": {
   "name": "python",
   "version": "3.8.10",
   "mimetype": "text/x-python",
   "codemirror_mode": {
    "name": "ipython",
    "version": 3
   },
   "pygments_lexer": "ipython3",
   "nbconvert_exporter": "python",
   "file_extension": ".py"
  },
  "kernelspec": {
   "name": "python3",
   "display_name": "Python 3.8.10 64-bit"
  },
  "interpreter": {
   "hash": "31f2aee4e71d21fbe5cf8b01ff0e069b9275f58929596ceb00d14d90e3e16cd6"
  }
 },
 "nbformat": 4,
 "nbformat_minor": 2
}