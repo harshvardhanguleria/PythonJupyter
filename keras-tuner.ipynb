{
 "cells": [
  {
   "cell_type": "code",
   "execution_count": 1,
   "metadata": {},
   "outputs": [],
   "source": [
    "import tensorflow as tf"
   ]
  },
  {
   "cell_type": "code",
   "execution_count": 2,
   "metadata": {},
   "outputs": [
    {
     "data": {
      "text/plain": [
       "(60000, 28, 28)"
      ]
     },
     "execution_count": 2,
     "metadata": {},
     "output_type": "execute_result"
    }
   ],
   "source": [
    "mnist = tf.keras.datasets.mnist\n",
    "\n",
    "(x_train, y_train), (x_test, y_test) = mnist.load_data()\n",
    "x_train, x_test = x_train / 255.0, x_test/ 255.0\n",
    "\n",
    "x_train.shape"
   ]
  },
  {
   "cell_type": "code",
   "execution_count": 9,
   "metadata": {},
   "outputs": [],
   "source": [
    "from tensorflow import keras\n",
    "from tensorflow.keras import layers\n",
    "from keras_tuner.tuners import RandomSearch"
   ]
  },
  {
   "cell_type": "code",
   "execution_count": 4,
   "metadata": {},
   "outputs": [],
   "source": [
    "def build_model(hp):\n",
    "    model = keras.Sequential()\n",
    "    model.add(layers.Flatten(input_shape=(28, 28)))\n",
    "\n",
    "    model.add(layers.Dense(units=hp.Int('units',\n",
    "                                        min_value = 32,\n",
    "                                        max_value = 512,\n",
    "                                        step = 128),\n",
    "                                        activation = 'relu'))\n",
    "    \n",
    "    model.add(layers.Dense(10, activation = 'softmax'))\n",
    "\n",
    "    model.compile(\n",
    "        optimzer = keras.optimizers.Adam(\n",
    "            hp.Choice(\n",
    "                'learning_rate',\n",
    "                values = [1e-2, 1e-4]\n",
    "            ),\n",
    "            loss = 'sparse_categorical_crossentropy',\n",
    "            metrics = ['accuracy']\n",
    "        )\n",
    "    )\n",
    "\n",
    "    return model"
   ]
  },
  {
   "cell_type": "code",
   "execution_count": 10,
   "metadata": {},
   "outputs": [
    {
     "ename": "TypeError",
     "evalue": "Unexpected keyword argument passed to optimizer: loss. Allowed kwargs are {'clipnorm', 'global_clipnorm', 'lr', 'clipvalue', 'decay'}.",
     "output_type": "error",
     "traceback": [
      "\u001b[1;31m---------------------------------------------------------------------------\u001b[0m",
      "\u001b[1;31mTypeError\u001b[0m                                 Traceback (most recent call last)",
      "\u001b[1;32md:\\Codes\\PythonJupyter\\keras-tuner.ipynb Cell 5'\u001b[0m in \u001b[0;36m<cell line: 1>\u001b[1;34m()\u001b[0m\n\u001b[1;32m----> <a href='vscode-notebook-cell:/d%3A/Codes/PythonJupyter/keras-tuner.ipynb#ch0000004?line=0'>1</a>\u001b[0m tuner \u001b[39m=\u001b[39m RandomSearch(\n\u001b[0;32m      <a href='vscode-notebook-cell:/d%3A/Codes/PythonJupyter/keras-tuner.ipynb#ch0000004?line=1'>2</a>\u001b[0m     build_model,\n\u001b[0;32m      <a href='vscode-notebook-cell:/d%3A/Codes/PythonJupyter/keras-tuner.ipynb#ch0000004?line=2'>3</a>\u001b[0m     objective \u001b[39m=\u001b[39;49m \u001b[39m'\u001b[39;49m\u001b[39mval_accuracy\u001b[39;49m\u001b[39m'\u001b[39;49m,\n\u001b[0;32m      <a href='vscode-notebook-cell:/d%3A/Codes/PythonJupyter/keras-tuner.ipynb#ch0000004?line=3'>4</a>\u001b[0m     max_trials \u001b[39m=\u001b[39;49m \u001b[39m5\u001b[39;49m\n\u001b[0;32m      <a href='vscode-notebook-cell:/d%3A/Codes/PythonJupyter/keras-tuner.ipynb#ch0000004?line=4'>5</a>\u001b[0m )\n",
      "File \u001b[1;32mC:\\InstalledPrograms\\Python310\\lib\\site-packages\\keras_tuner\\tuners\\randomsearch.py:145\u001b[0m, in \u001b[0;36mRandomSearch.__init__\u001b[1;34m(self, hypermodel, objective, max_trials, seed, hyperparameters, tune_new_entries, allow_new_entries, **kwargs)\u001b[0m\n\u001b[0;32m    <a href='file:///c%3A/InstalledPrograms/Python310/lib/site-packages/keras_tuner/tuners/randomsearch.py?line=135'>136</a>\u001b[0m \u001b[39mself\u001b[39m\u001b[39m.\u001b[39mseed \u001b[39m=\u001b[39m seed\n\u001b[0;32m    <a href='file:///c%3A/InstalledPrograms/Python310/lib/site-packages/keras_tuner/tuners/randomsearch.py?line=136'>137</a>\u001b[0m oracle \u001b[39m=\u001b[39m RandomSearchOracle(\n\u001b[0;32m    <a href='file:///c%3A/InstalledPrograms/Python310/lib/site-packages/keras_tuner/tuners/randomsearch.py?line=137'>138</a>\u001b[0m     objective\u001b[39m=\u001b[39mobjective,\n\u001b[0;32m    <a href='file:///c%3A/InstalledPrograms/Python310/lib/site-packages/keras_tuner/tuners/randomsearch.py?line=138'>139</a>\u001b[0m     max_trials\u001b[39m=\u001b[39mmax_trials,\n\u001b[1;32m   (...)\u001b[0m\n\u001b[0;32m    <a href='file:///c%3A/InstalledPrograms/Python310/lib/site-packages/keras_tuner/tuners/randomsearch.py?line=142'>143</a>\u001b[0m     allow_new_entries\u001b[39m=\u001b[39mallow_new_entries,\n\u001b[0;32m    <a href='file:///c%3A/InstalledPrograms/Python310/lib/site-packages/keras_tuner/tuners/randomsearch.py?line=143'>144</a>\u001b[0m )\n\u001b[1;32m--> <a href='file:///c%3A/InstalledPrograms/Python310/lib/site-packages/keras_tuner/tuners/randomsearch.py?line=144'>145</a>\u001b[0m \u001b[39msuper\u001b[39m(RandomSearch, \u001b[39mself\u001b[39m)\u001b[39m.\u001b[39m\u001b[39m__init__\u001b[39m(oracle, hypermodel, \u001b[39m*\u001b[39m\u001b[39m*\u001b[39mkwargs)\n",
      "File \u001b[1;32mC:\\InstalledPrograms\\Python310\\lib\\site-packages\\keras_tuner\\engine\\tuner.py:110\u001b[0m, in \u001b[0;36mTuner.__init__\u001b[1;34m(self, oracle, hypermodel, max_model_size, optimizer, loss, metrics, distribution_strategy, directory, project_name, logger, tuner_id, overwrite, executions_per_trial)\u001b[0m\n\u001b[0;32m    <a href='file:///c%3A/InstalledPrograms/Python310/lib/site-packages/keras_tuner/engine/tuner.py?line=101'>102</a>\u001b[0m \u001b[39mif\u001b[39;00m hypermodel \u001b[39mis\u001b[39;00m \u001b[39mNone\u001b[39;00m \u001b[39mand\u001b[39;00m \u001b[39mself\u001b[39m\u001b[39m.\u001b[39m\u001b[39m__class__\u001b[39m\u001b[39m.\u001b[39mrun_trial \u001b[39mis\u001b[39;00m Tuner\u001b[39m.\u001b[39mrun_trial:\n\u001b[0;32m    <a href='file:///c%3A/InstalledPrograms/Python310/lib/site-packages/keras_tuner/engine/tuner.py?line=102'>103</a>\u001b[0m     \u001b[39mraise\u001b[39;00m \u001b[39mValueError\u001b[39;00m(\n\u001b[0;32m    <a href='file:///c%3A/InstalledPrograms/Python310/lib/site-packages/keras_tuner/engine/tuner.py?line=103'>104</a>\u001b[0m         \u001b[39m\"\u001b[39m\u001b[39mReceived `hypermodel=None`. We only allow not specifying \u001b[39m\u001b[39m\"\u001b[39m\n\u001b[0;32m    <a href='file:///c%3A/InstalledPrograms/Python310/lib/site-packages/keras_tuner/engine/tuner.py?line=104'>105</a>\u001b[0m         \u001b[39m\"\u001b[39m\u001b[39m`hypermodel` if the user defines the search space in \u001b[39m\u001b[39m\"\u001b[39m\n\u001b[0;32m    <a href='file:///c%3A/InstalledPrograms/Python310/lib/site-packages/keras_tuner/engine/tuner.py?line=105'>106</a>\u001b[0m         \u001b[39m\"\u001b[39m\u001b[39m`Tuner.run_trial()` by subclassing a `Tuner` class without \u001b[39m\u001b[39m\"\u001b[39m\n\u001b[0;32m    <a href='file:///c%3A/InstalledPrograms/Python310/lib/site-packages/keras_tuner/engine/tuner.py?line=106'>107</a>\u001b[0m         \u001b[39m\"\u001b[39m\u001b[39musing a `HyperModel` instance.\u001b[39m\u001b[39m\"\u001b[39m\n\u001b[0;32m    <a href='file:///c%3A/InstalledPrograms/Python310/lib/site-packages/keras_tuner/engine/tuner.py?line=107'>108</a>\u001b[0m     )\n\u001b[1;32m--> <a href='file:///c%3A/InstalledPrograms/Python310/lib/site-packages/keras_tuner/engine/tuner.py?line=109'>110</a>\u001b[0m \u001b[39msuper\u001b[39;49m(Tuner, \u001b[39mself\u001b[39;49m)\u001b[39m.\u001b[39;49m\u001b[39m__init__\u001b[39;49m(\n\u001b[0;32m    <a href='file:///c%3A/InstalledPrograms/Python310/lib/site-packages/keras_tuner/engine/tuner.py?line=110'>111</a>\u001b[0m     oracle\u001b[39m=\u001b[39;49moracle,\n\u001b[0;32m    <a href='file:///c%3A/InstalledPrograms/Python310/lib/site-packages/keras_tuner/engine/tuner.py?line=111'>112</a>\u001b[0m     hypermodel\u001b[39m=\u001b[39;49mhypermodel,\n\u001b[0;32m    <a href='file:///c%3A/InstalledPrograms/Python310/lib/site-packages/keras_tuner/engine/tuner.py?line=112'>113</a>\u001b[0m     directory\u001b[39m=\u001b[39;49mdirectory,\n\u001b[0;32m    <a href='file:///c%3A/InstalledPrograms/Python310/lib/site-packages/keras_tuner/engine/tuner.py?line=113'>114</a>\u001b[0m     project_name\u001b[39m=\u001b[39;49mproject_name,\n\u001b[0;32m    <a href='file:///c%3A/InstalledPrograms/Python310/lib/site-packages/keras_tuner/engine/tuner.py?line=114'>115</a>\u001b[0m     logger\u001b[39m=\u001b[39;49mlogger,\n\u001b[0;32m    <a href='file:///c%3A/InstalledPrograms/Python310/lib/site-packages/keras_tuner/engine/tuner.py?line=115'>116</a>\u001b[0m     overwrite\u001b[39m=\u001b[39;49moverwrite,\n\u001b[0;32m    <a href='file:///c%3A/InstalledPrograms/Python310/lib/site-packages/keras_tuner/engine/tuner.py?line=116'>117</a>\u001b[0m )\n\u001b[0;32m    <a href='file:///c%3A/InstalledPrograms/Python310/lib/site-packages/keras_tuner/engine/tuner.py?line=118'>119</a>\u001b[0m \u001b[39mself\u001b[39m\u001b[39m.\u001b[39mmax_model_size \u001b[39m=\u001b[39m max_model_size\n\u001b[0;32m    <a href='file:///c%3A/InstalledPrograms/Python310/lib/site-packages/keras_tuner/engine/tuner.py?line=119'>120</a>\u001b[0m \u001b[39mself\u001b[39m\u001b[39m.\u001b[39moptimizer \u001b[39m=\u001b[39m optimizer\n",
      "File \u001b[1;32mC:\\InstalledPrograms\\Python310\\lib\\site-packages\\keras_tuner\\engine\\base_tuner.py:103\u001b[0m, in \u001b[0;36mBaseTuner.__init__\u001b[1;34m(self, oracle, hypermodel, directory, project_name, logger, overwrite)\u001b[0m\n\u001b[0;32m    <a href='file:///c%3A/InstalledPrograms/Python310/lib/site-packages/keras_tuner/engine/base_tuner.py?line=99'>100</a>\u001b[0m \u001b[39mself\u001b[39m\u001b[39m.\u001b[39mlogger \u001b[39m=\u001b[39m logger\n\u001b[0;32m    <a href='file:///c%3A/InstalledPrograms/Python310/lib/site-packages/keras_tuner/engine/base_tuner.py?line=100'>101</a>\u001b[0m \u001b[39mself\u001b[39m\u001b[39m.\u001b[39m_display \u001b[39m=\u001b[39m tuner_utils\u001b[39m.\u001b[39mDisplay(oracle\u001b[39m=\u001b[39m\u001b[39mself\u001b[39m\u001b[39m.\u001b[39moracle)\n\u001b[1;32m--> <a href='file:///c%3A/InstalledPrograms/Python310/lib/site-packages/keras_tuner/engine/base_tuner.py?line=102'>103</a>\u001b[0m \u001b[39mself\u001b[39;49m\u001b[39m.\u001b[39;49m_populate_initial_space()\n\u001b[0;32m    <a href='file:///c%3A/InstalledPrograms/Python310/lib/site-packages/keras_tuner/engine/base_tuner.py?line=104'>105</a>\u001b[0m \u001b[39mif\u001b[39;00m \u001b[39mnot\u001b[39;00m overwrite \u001b[39mand\u001b[39;00m tf\u001b[39m.\u001b[39mio\u001b[39m.\u001b[39mgfile\u001b[39m.\u001b[39mexists(\u001b[39mself\u001b[39m\u001b[39m.\u001b[39m_get_tuner_fname()):\n\u001b[0;32m    <a href='file:///c%3A/InstalledPrograms/Python310/lib/site-packages/keras_tuner/engine/base_tuner.py?line=105'>106</a>\u001b[0m     tf\u001b[39m.\u001b[39mget_logger()\u001b[39m.\u001b[39minfo(\n\u001b[0;32m    <a href='file:///c%3A/InstalledPrograms/Python310/lib/site-packages/keras_tuner/engine/base_tuner.py?line=106'>107</a>\u001b[0m         \u001b[39m\"\u001b[39m\u001b[39mReloading Tuner from \u001b[39m\u001b[39m{}\u001b[39;00m\u001b[39m\"\u001b[39m\u001b[39m.\u001b[39mformat(\u001b[39mself\u001b[39m\u001b[39m.\u001b[39m_get_tuner_fname())\n\u001b[0;32m    <a href='file:///c%3A/InstalledPrograms/Python310/lib/site-packages/keras_tuner/engine/base_tuner.py?line=107'>108</a>\u001b[0m     )\n",
      "File \u001b[1;32mC:\\InstalledPrograms\\Python310\\lib\\site-packages\\keras_tuner\\engine\\base_tuner.py:132\u001b[0m, in \u001b[0;36mBaseTuner._populate_initial_space\u001b[1;34m(self)\u001b[0m\n\u001b[0;32m    <a href='file:///c%3A/InstalledPrograms/Python310/lib/site-packages/keras_tuner/engine/base_tuner.py?line=128'>129</a>\u001b[0m scopes_once_active \u001b[39m=\u001b[39m []\n\u001b[0;32m    <a href='file:///c%3A/InstalledPrograms/Python310/lib/site-packages/keras_tuner/engine/base_tuner.py?line=130'>131</a>\u001b[0m \u001b[39mwhile\u001b[39;00m \u001b[39mTrue\u001b[39;00m:\n\u001b[1;32m--> <a href='file:///c%3A/InstalledPrograms/Python310/lib/site-packages/keras_tuner/engine/base_tuner.py?line=131'>132</a>\u001b[0m     \u001b[39mself\u001b[39;49m\u001b[39m.\u001b[39;49mhypermodel\u001b[39m.\u001b[39;49mbuild(hp)\n\u001b[0;32m    <a href='file:///c%3A/InstalledPrograms/Python310/lib/site-packages/keras_tuner/engine/base_tuner.py?line=133'>134</a>\u001b[0m     \u001b[39m# Update the recored scopes.\u001b[39;00m\n\u001b[0;32m    <a href='file:///c%3A/InstalledPrograms/Python310/lib/site-packages/keras_tuner/engine/base_tuner.py?line=134'>135</a>\u001b[0m     \u001b[39mfor\u001b[39;00m conditions \u001b[39min\u001b[39;00m hp\u001b[39m.\u001b[39mactive_scopes:\n",
      "\u001b[1;32md:\\Codes\\PythonJupyter\\keras-tuner.ipynb Cell 4'\u001b[0m in \u001b[0;36mbuild_model\u001b[1;34m(hp)\u001b[0m\n\u001b[0;32m      <a href='vscode-notebook-cell:/d%3A/Codes/PythonJupyter/keras-tuner.ipynb#ch0000003?line=4'>5</a>\u001b[0m model\u001b[39m.\u001b[39madd(layers\u001b[39m.\u001b[39mDense(units\u001b[39m=\u001b[39mhp\u001b[39m.\u001b[39mInt(\u001b[39m'\u001b[39m\u001b[39munits\u001b[39m\u001b[39m'\u001b[39m,\n\u001b[0;32m      <a href='vscode-notebook-cell:/d%3A/Codes/PythonJupyter/keras-tuner.ipynb#ch0000003?line=5'>6</a>\u001b[0m                                     min_value \u001b[39m=\u001b[39m \u001b[39m32\u001b[39m,\n\u001b[0;32m      <a href='vscode-notebook-cell:/d%3A/Codes/PythonJupyter/keras-tuner.ipynb#ch0000003?line=6'>7</a>\u001b[0m                                     max_value \u001b[39m=\u001b[39m \u001b[39m512\u001b[39m,\n\u001b[0;32m      <a href='vscode-notebook-cell:/d%3A/Codes/PythonJupyter/keras-tuner.ipynb#ch0000003?line=7'>8</a>\u001b[0m                                     step \u001b[39m=\u001b[39m \u001b[39m128\u001b[39m),\n\u001b[0;32m      <a href='vscode-notebook-cell:/d%3A/Codes/PythonJupyter/keras-tuner.ipynb#ch0000003?line=8'>9</a>\u001b[0m                                     activation \u001b[39m=\u001b[39m \u001b[39m'\u001b[39m\u001b[39mrelu\u001b[39m\u001b[39m'\u001b[39m))\n\u001b[0;32m     <a href='vscode-notebook-cell:/d%3A/Codes/PythonJupyter/keras-tuner.ipynb#ch0000003?line=10'>11</a>\u001b[0m model\u001b[39m.\u001b[39madd(layers\u001b[39m.\u001b[39mDense(\u001b[39m10\u001b[39m, activation \u001b[39m=\u001b[39m \u001b[39m'\u001b[39m\u001b[39msoftmax\u001b[39m\u001b[39m'\u001b[39m))\n\u001b[0;32m     <a href='vscode-notebook-cell:/d%3A/Codes/PythonJupyter/keras-tuner.ipynb#ch0000003?line=12'>13</a>\u001b[0m model\u001b[39m.\u001b[39mcompile(\n\u001b[1;32m---> <a href='vscode-notebook-cell:/d%3A/Codes/PythonJupyter/keras-tuner.ipynb#ch0000003?line=13'>14</a>\u001b[0m     optimzer \u001b[39m=\u001b[39m keras\u001b[39m.\u001b[39;49moptimizers\u001b[39m.\u001b[39;49mAdam(\n\u001b[0;32m     <a href='vscode-notebook-cell:/d%3A/Codes/PythonJupyter/keras-tuner.ipynb#ch0000003?line=14'>15</a>\u001b[0m         hp\u001b[39m.\u001b[39;49mChoice(\n\u001b[0;32m     <a href='vscode-notebook-cell:/d%3A/Codes/PythonJupyter/keras-tuner.ipynb#ch0000003?line=15'>16</a>\u001b[0m             \u001b[39m'\u001b[39;49m\u001b[39mlearning_rate\u001b[39;49m\u001b[39m'\u001b[39;49m,\n\u001b[0;32m     <a href='vscode-notebook-cell:/d%3A/Codes/PythonJupyter/keras-tuner.ipynb#ch0000003?line=16'>17</a>\u001b[0m             values \u001b[39m=\u001b[39;49m [\u001b[39m1e-2\u001b[39;49m, \u001b[39m1e-4\u001b[39;49m]\n\u001b[0;32m     <a href='vscode-notebook-cell:/d%3A/Codes/PythonJupyter/keras-tuner.ipynb#ch0000003?line=17'>18</a>\u001b[0m         ),\n\u001b[0;32m     <a href='vscode-notebook-cell:/d%3A/Codes/PythonJupyter/keras-tuner.ipynb#ch0000003?line=18'>19</a>\u001b[0m         loss \u001b[39m=\u001b[39;49m \u001b[39m'\u001b[39;49m\u001b[39msparse_categorical_crossentropy\u001b[39;49m\u001b[39m'\u001b[39;49m,\n\u001b[0;32m     <a href='vscode-notebook-cell:/d%3A/Codes/PythonJupyter/keras-tuner.ipynb#ch0000003?line=19'>20</a>\u001b[0m         metrics \u001b[39m=\u001b[39;49m [\u001b[39m'\u001b[39;49m\u001b[39maccuracy\u001b[39;49m\u001b[39m'\u001b[39;49m]\n\u001b[0;32m     <a href='vscode-notebook-cell:/d%3A/Codes/PythonJupyter/keras-tuner.ipynb#ch0000003?line=20'>21</a>\u001b[0m     )\n\u001b[0;32m     <a href='vscode-notebook-cell:/d%3A/Codes/PythonJupyter/keras-tuner.ipynb#ch0000003?line=21'>22</a>\u001b[0m )\n\u001b[0;32m     <a href='vscode-notebook-cell:/d%3A/Codes/PythonJupyter/keras-tuner.ipynb#ch0000003?line=23'>24</a>\u001b[0m \u001b[39mreturn\u001b[39;00m model\n",
      "File \u001b[1;32mC:\\InstalledPrograms\\Python310\\lib\\site-packages\\keras\\optimizer_v2\\adam.py:105\u001b[0m, in \u001b[0;36mAdam.__init__\u001b[1;34m(self, learning_rate, beta_1, beta_2, epsilon, amsgrad, name, **kwargs)\u001b[0m\n\u001b[0;32m     <a href='file:///c%3A/InstalledPrograms/Python310/lib/site-packages/keras/optimizer_v2/adam.py?line=96'>97</a>\u001b[0m \u001b[39mdef\u001b[39;00m \u001b[39m__init__\u001b[39m(\u001b[39mself\u001b[39m,\n\u001b[0;32m     <a href='file:///c%3A/InstalledPrograms/Python310/lib/site-packages/keras/optimizer_v2/adam.py?line=97'>98</a>\u001b[0m              learning_rate\u001b[39m=\u001b[39m\u001b[39m0.001\u001b[39m,\n\u001b[0;32m     <a href='file:///c%3A/InstalledPrograms/Python310/lib/site-packages/keras/optimizer_v2/adam.py?line=98'>99</a>\u001b[0m              beta_1\u001b[39m=\u001b[39m\u001b[39m0.9\u001b[39m,\n\u001b[1;32m   (...)\u001b[0m\n\u001b[0;32m    <a href='file:///c%3A/InstalledPrograms/Python310/lib/site-packages/keras/optimizer_v2/adam.py?line=102'>103</a>\u001b[0m              name\u001b[39m=\u001b[39m\u001b[39m'\u001b[39m\u001b[39mAdam\u001b[39m\u001b[39m'\u001b[39m,\n\u001b[0;32m    <a href='file:///c%3A/InstalledPrograms/Python310/lib/site-packages/keras/optimizer_v2/adam.py?line=103'>104</a>\u001b[0m              \u001b[39m*\u001b[39m\u001b[39m*\u001b[39mkwargs):\n\u001b[1;32m--> <a href='file:///c%3A/InstalledPrograms/Python310/lib/site-packages/keras/optimizer_v2/adam.py?line=104'>105</a>\u001b[0m   \u001b[39msuper\u001b[39m(Adam, \u001b[39mself\u001b[39m)\u001b[39m.\u001b[39m\u001b[39m__init__\u001b[39m(name, \u001b[39m*\u001b[39m\u001b[39m*\u001b[39mkwargs)\n\u001b[0;32m    <a href='file:///c%3A/InstalledPrograms/Python310/lib/site-packages/keras/optimizer_v2/adam.py?line=105'>106</a>\u001b[0m   \u001b[39mself\u001b[39m\u001b[39m.\u001b[39m_set_hyper(\u001b[39m'\u001b[39m\u001b[39mlearning_rate\u001b[39m\u001b[39m'\u001b[39m, kwargs\u001b[39m.\u001b[39mget(\u001b[39m'\u001b[39m\u001b[39mlr\u001b[39m\u001b[39m'\u001b[39m, learning_rate))\n\u001b[0;32m    <a href='file:///c%3A/InstalledPrograms/Python310/lib/site-packages/keras/optimizer_v2/adam.py?line=106'>107</a>\u001b[0m   \u001b[39mself\u001b[39m\u001b[39m.\u001b[39m_set_hyper(\u001b[39m'\u001b[39m\u001b[39mdecay\u001b[39m\u001b[39m'\u001b[39m, \u001b[39mself\u001b[39m\u001b[39m.\u001b[39m_initial_decay)\n",
      "File \u001b[1;32mC:\\InstalledPrograms\\Python310\\lib\\site-packages\\keras\\optimizer_v2\\optimizer_v2.py:349\u001b[0m, in \u001b[0;36mOptimizerV2.__init__\u001b[1;34m(self, name, gradient_aggregator, gradient_transformers, **kwargs)\u001b[0m\n\u001b[0;32m    <a href='file:///c%3A/InstalledPrograms/Python310/lib/site-packages/keras/optimizer_v2/optimizer_v2.py?line=346'>347</a>\u001b[0m \u001b[39mfor\u001b[39;00m k \u001b[39min\u001b[39;00m kwargs:\n\u001b[0;32m    <a href='file:///c%3A/InstalledPrograms/Python310/lib/site-packages/keras/optimizer_v2/optimizer_v2.py?line=347'>348</a>\u001b[0m   \u001b[39mif\u001b[39;00m k \u001b[39mnot\u001b[39;00m \u001b[39min\u001b[39;00m allowed_kwargs:\n\u001b[1;32m--> <a href='file:///c%3A/InstalledPrograms/Python310/lib/site-packages/keras/optimizer_v2/optimizer_v2.py?line=348'>349</a>\u001b[0m     \u001b[39mraise\u001b[39;00m \u001b[39mTypeError\u001b[39;00m(\u001b[39m\"\u001b[39m\u001b[39mUnexpected keyword argument \u001b[39m\u001b[39m\"\u001b[39m\n\u001b[0;32m    <a href='file:///c%3A/InstalledPrograms/Python310/lib/site-packages/keras/optimizer_v2/optimizer_v2.py?line=349'>350</a>\u001b[0m                     \u001b[39mf\u001b[39m\u001b[39m\"\u001b[39m\u001b[39mpassed to optimizer: \u001b[39m\u001b[39m{\u001b[39;00m\u001b[39mstr\u001b[39m(k)\u001b[39m}\u001b[39;00m\u001b[39m. Allowed kwargs are \u001b[39m\u001b[39m\"\u001b[39m\n\u001b[0;32m    <a href='file:///c%3A/InstalledPrograms/Python310/lib/site-packages/keras/optimizer_v2/optimizer_v2.py?line=350'>351</a>\u001b[0m                     \u001b[39mf\u001b[39m\u001b[39m\"\u001b[39m\u001b[39m{\u001b[39;00mallowed_kwargs\u001b[39m}\u001b[39;00m\u001b[39m.\u001b[39m\u001b[39m\"\u001b[39m)\n\u001b[0;32m    <a href='file:///c%3A/InstalledPrograms/Python310/lib/site-packages/keras/optimizer_v2/optimizer_v2.py?line=351'>352</a>\u001b[0m   \u001b[39m# checks that all keyword arguments are non-negative.\u001b[39;00m\n\u001b[0;32m    <a href='file:///c%3A/InstalledPrograms/Python310/lib/site-packages/keras/optimizer_v2/optimizer_v2.py?line=352'>353</a>\u001b[0m   \u001b[39mif\u001b[39;00m kwargs[k] \u001b[39mis\u001b[39;00m \u001b[39mnot\u001b[39;00m \u001b[39mNone\u001b[39;00m \u001b[39mand\u001b[39;00m kwargs[k] \u001b[39m<\u001b[39m \u001b[39m0\u001b[39m:\n",
      "\u001b[1;31mTypeError\u001b[0m: Unexpected keyword argument passed to optimizer: loss. Allowed kwargs are {'clipnorm', 'global_clipnorm', 'lr', 'clipvalue', 'decay'}."
     ]
    }
   ],
   "source": [
    "tuner = RandomSearch(\n",
    "    build_model,\n",
    "    objective = 'val_accuracy',\n",
    "    max_trials = 5\n",
    ")"
   ]
  },
  {
   "cell_type": "code",
   "execution_count": null,
   "metadata": {},
   "outputs": [
    {
     "ename": "NameError",
     "evalue": "name 'tuner' is not defined",
     "output_type": "error",
     "traceback": [
      "\u001b[1;31m---------------------------------------------------------------------------\u001b[0m",
      "\u001b[1;31mNameError\u001b[0m                                 Traceback (most recent call last)",
      "\u001b[1;32md:\\Codes\\PythonJupyter\\keras-tuner.ipynb Cell 6'\u001b[0m in \u001b[0;36m<cell line: 1>\u001b[1;34m()\u001b[0m\n\u001b[1;32m----> <a href='vscode-notebook-cell:/d%3A/Codes/PythonJupyter/keras-tuner.ipynb#ch0000005?line=0'>1</a>\u001b[0m tuner\u001b[39m.\u001b[39msearch_space_summary()\n",
      "\u001b[1;31mNameError\u001b[0m: name 'tuner' is not defined"
     ]
    }
   ],
   "source": [
    "tuner.search_space_summary()"
   ]
  },
  {
   "cell_type": "code",
   "execution_count": null,
   "metadata": {},
   "outputs": [],
   "source": []
  }
 ],
 "metadata": {
  "interpreter": {
   "hash": "702b132eea466ca2cef64d6c574ffbb3c02bbd7c96cd994a96c68a5f96246afc"
  },
  "kernelspec": {
   "display_name": "Python 3.10.4 64-bit",
   "language": "python",
   "name": "python3"
  },
  "language_info": {
   "codemirror_mode": {
    "name": "ipython",
    "version": 3
   },
   "file_extension": ".py",
   "mimetype": "text/x-python",
   "name": "python",
   "nbconvert_exporter": "python",
   "pygments_lexer": "ipython3",
   "version": "3.10.4"
  },
  "orig_nbformat": 4
 },
 "nbformat": 4,
 "nbformat_minor": 2
}
