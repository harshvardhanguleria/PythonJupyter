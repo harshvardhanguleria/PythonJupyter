{
 "cells": [
  {
   "cell_type": "code",
   "execution_count": 1,
   "source": [
    "import numpy as np\n",
    "import pandas as pd"
   ],
   "outputs": [],
   "metadata": {}
  },
  {
   "cell_type": "code",
   "execution_count": 2,
   "source": [
    "# creating numpy array\n",
    "instance_data = np.array([[0, 3], [1, 2], [5, 6], [9, 7], [4, 10]])\n",
    "# list containing column names\n",
    "column_names = ['temperature', 'activity']\n",
    "# creating a dataframe\n",
    "pandas_dataframe = pd.DataFrame(data=instance_data, columns=column_names)\n",
    "pandas_dataframe"
   ],
   "outputs": [
    {
     "output_type": "execute_result",
     "data": {
      "text/html": [
       "<div>\n",
       "<style scoped>\n",
       "    .dataframe tbody tr th:only-of-type {\n",
       "        vertical-align: middle;\n",
       "    }\n",
       "\n",
       "    .dataframe tbody tr th {\n",
       "        vertical-align: top;\n",
       "    }\n",
       "\n",
       "    .dataframe thead th {\n",
       "        text-align: right;\n",
       "    }\n",
       "</style>\n",
       "<table border=\"1\" class=\"dataframe\">\n",
       "  <thead>\n",
       "    <tr style=\"text-align: right;\">\n",
       "      <th></th>\n",
       "      <th>temperature</th>\n",
       "      <th>activity</th>\n",
       "    </tr>\n",
       "  </thead>\n",
       "  <tbody>\n",
       "    <tr>\n",
       "      <th>0</th>\n",
       "      <td>0</td>\n",
       "      <td>3</td>\n",
       "    </tr>\n",
       "    <tr>\n",
       "      <th>1</th>\n",
       "      <td>1</td>\n",
       "      <td>2</td>\n",
       "    </tr>\n",
       "    <tr>\n",
       "      <th>2</th>\n",
       "      <td>5</td>\n",
       "      <td>6</td>\n",
       "    </tr>\n",
       "    <tr>\n",
       "      <th>3</th>\n",
       "      <td>9</td>\n",
       "      <td>7</td>\n",
       "    </tr>\n",
       "    <tr>\n",
       "      <th>4</th>\n",
       "      <td>4</td>\n",
       "      <td>10</td>\n",
       "    </tr>\n",
       "  </tbody>\n",
       "</table>\n",
       "</div>"
      ],
      "text/plain": [
       "   temperature  activity\n",
       "0            0         3\n",
       "1            1         2\n",
       "2            5         6\n",
       "3            9         7\n",
       "4            4        10"
      ]
     },
     "metadata": {},
     "execution_count": 2
    }
   ],
   "metadata": {}
  },
  {
   "cell_type": "code",
   "execution_count": 3,
   "source": [
    "# adding a new column to the Dataframe\n",
    "pandas_dataframe['adjusted'] = pandas_dataframe['activity'] + 2\n",
    "pandas_dataframe"
   ],
   "outputs": [
    {
     "output_type": "execute_result",
     "data": {
      "text/html": [
       "<div>\n",
       "<style scoped>\n",
       "    .dataframe tbody tr th:only-of-type {\n",
       "        vertical-align: middle;\n",
       "    }\n",
       "\n",
       "    .dataframe tbody tr th {\n",
       "        vertical-align: top;\n",
       "    }\n",
       "\n",
       "    .dataframe thead th {\n",
       "        text-align: right;\n",
       "    }\n",
       "</style>\n",
       "<table border=\"1\" class=\"dataframe\">\n",
       "  <thead>\n",
       "    <tr style=\"text-align: right;\">\n",
       "      <th></th>\n",
       "      <th>temperature</th>\n",
       "      <th>activity</th>\n",
       "      <th>adjusted</th>\n",
       "    </tr>\n",
       "  </thead>\n",
       "  <tbody>\n",
       "    <tr>\n",
       "      <th>0</th>\n",
       "      <td>0</td>\n",
       "      <td>3</td>\n",
       "      <td>5</td>\n",
       "    </tr>\n",
       "    <tr>\n",
       "      <th>1</th>\n",
       "      <td>1</td>\n",
       "      <td>2</td>\n",
       "      <td>4</td>\n",
       "    </tr>\n",
       "    <tr>\n",
       "      <th>2</th>\n",
       "      <td>5</td>\n",
       "      <td>6</td>\n",
       "      <td>8</td>\n",
       "    </tr>\n",
       "    <tr>\n",
       "      <th>3</th>\n",
       "      <td>9</td>\n",
       "      <td>7</td>\n",
       "      <td>9</td>\n",
       "    </tr>\n",
       "    <tr>\n",
       "      <th>4</th>\n",
       "      <td>4</td>\n",
       "      <td>10</td>\n",
       "      <td>12</td>\n",
       "    </tr>\n",
       "  </tbody>\n",
       "</table>\n",
       "</div>"
      ],
      "text/plain": [
       "   temperature  activity  adjusted\n",
       "0            0         3         5\n",
       "1            1         2         4\n",
       "2            5         6         8\n",
       "3            9         7         9\n",
       "4            4        10        12"
      ]
     },
     "metadata": {},
     "execution_count": 3
    }
   ],
   "metadata": {}
  },
  {
   "cell_type": "code",
   "execution_count": 5,
   "source": [
    "print('row 0, 1, 2')\n",
    "print(pandas_dataframe.head(3))\n",
    "print(\"row 2\")\n",
    "print(pandas_dataframe.iloc[[2]])\n",
    "print(\"row 1, 2, 3\")\n",
    "print(pandas_dataframe[1:4])\n",
    "print(\"column = temperature\")\n",
    "print(pandas_dataframe.temperature)"
   ],
   "outputs": [
    {
     "output_type": "stream",
     "name": "stdout",
     "text": [
      "row 0, 1, 2\n",
      "   temperature  activity  adjusted\n",
      "0            0         3         5\n",
      "1            1         2         4\n",
      "2            5         6         8\n",
      "row 2\n",
      "   temperature  activity  adjusted\n",
      "2            5         6         8\n",
      "row 1, 2, 3\n",
      "   temperature  activity  adjusted\n",
      "1            1         2         4\n",
      "2            5         6         8\n",
      "3            9         7         9\n",
      "column = temperature\n",
      "0    0\n",
      "1    1\n",
      "2    5\n",
      "3    9\n",
      "4    4\n",
      "Name: temperature, dtype: int64\n"
     ]
    }
   ],
   "metadata": {}
  },
  {
   "cell_type": "markdown",
   "source": [
    "# Task 1: Create a DataFrame\n",
    "Do the following:\n",
    "\n",
    "Create an 3x4 (3 rows x 4 columns) pandas DataFrame in which the columns are named Eleanor, Chidi, Tahani, and Jason. Populate each of the 12 cells in the DataFrame with a random integer between 0 and 100, inclusive.\n",
    "\n",
    "Output the following:\n",
    "\n",
    "the entire DataFrame\n",
    "\n",
    "the value in the cell of row #1 of the Eleanor column\n",
    "\n",
    "Create a fifth column named Janet, which is populated with the row-by-row sums of Tahani and Jason.\n",
    "\n",
    "To complete this task, it helps to know the NumPy basics covered in the NumPy UltraQuick Tutorial."
   ],
   "metadata": {}
  },
  {
   "cell_type": "code",
   "execution_count": 13,
   "source": [
    "column_names = [\"Eleanor\", \"Chidi\", \"Tahani\", \"Jason\"]\n",
    "instance_data = np.random.randint(low=0, high=100, size=(3, 4), dtype=\"int64\")\n",
    "new_Dataframe = pd.DataFrame(data=instance_data, columns=column_names)\n",
    "print(new_Dataframe)\n",
    "print(new_Dataframe.Eleanor[1])\n",
    "new_Dataframe[\"Janet\"] = new_Dataframe[\"Tahani\"] + new_Dataframe[\"Jason\"]\n",
    "print(new_Dataframe)"
   ],
   "outputs": [
    {
     "output_type": "stream",
     "name": "stdout",
     "text": [
      "   Eleanor  Chidi  Tahani  Jason\n",
      "0       29     87      52     78\n",
      "1       16     64      24     46\n",
      "2       27     14      69      3\n",
      "16\n",
      "   Eleanor  Chidi  Tahani  Jason  Janet\n",
      "0       29     87      52     78    130\n",
      "1       16     64      24     46     70\n",
      "2       27     14      69      3     72\n"
     ]
    }
   ],
   "metadata": {}
  },
  {
   "cell_type": "code",
   "execution_count": 16,
   "source": [
    "# Creating a reference for new_Dataframe\n",
    "reference_Dataframe = new_Dataframe\n",
    "\n",
    "# printing starting value of any cell\n",
    "print(\"Starting value of new_Dataframe: %d\" % new_Dataframe.Jason[1])\n",
    "print(\"Starting value of reference_Dataframe: %d\" % reference_Dataframe.Jason[1])\n",
    "\n",
    "# Modify cell in new_Dataframe\n",
    "new_Dataframe.at[\"Jason\", 1] = new_Dataframe[\"Jason\"][1] + 5\n",
    "print(\"Updated value at that cell in new_Dataframe: %d\" % new_Dataframe[\"Jason\"][1])\n",
    "print(\"Value at that cell in refernce_Dataframe: %d\" % reference_Dataframe[\"Jason\"][1])\n",
    "\n",
    "# making an independent copy of new_Dataframe\n",
    "print(\"Experiment with a true copy:\")\n",
    "copy_of_pandas_dataframe = pandas_dataframe.copy()\n",
    "\n",
    "# Print the starting value of a particular cell.\n",
    "print(\"Starting value of pandas_dataframe: %d\" % pandas_dataframe['activity'][1])\n",
    "print(\"Starting value of copy_of_pandas_dataframe: %d\\n\" % copy_of_pandas_dataframe['activity'][1])\n",
    "\n",
    "# Modify a cell in df.\n",
    "pandas_dataframe.at[1, 'activity'] = pandas_dataframe['activity'][1] + 3\n",
    "print(\"Updated pandas_dataframe: %d\" % pandas_dataframe['activity'][1])\n",
    "print(\"copy_of_pandas_dataframe does not get updated: %d\" % copy_of_pandas_dataframe['activity'][1])"
   ],
   "outputs": [
    {
     "output_type": "stream",
     "name": "stdout",
     "text": [
      "Starting value of new_Dataframe: 46\n",
      "Starting value of reference_Dataframe: 46\n",
      "Updated value at that cell in new_Dataframe: 46\n",
      "Value at that cell in refernce_Dataframe: 46\n",
      "Experiment with a true copy:\n",
      "Starting value of pandas_dataframe: 5\n",
      "Starting value of copy_of_pandas_dataframe: 5\n",
      "\n",
      "Updated pandas_dataframe: 8\n",
      "copy_of_pandas_dataframe does not get updated: 5\n"
     ]
    }
   ],
   "metadata": {}
  },
  {
   "cell_type": "code",
   "execution_count": null,
   "source": [],
   "outputs": [],
   "metadata": {}
  }
 ],
 "metadata": {
  "orig_nbformat": 4,
  "language_info": {
   "name": "python",
   "version": "3.8.10",
   "mimetype": "text/x-python",
   "codemirror_mode": {
    "name": "ipython",
    "version": 3
   },
   "pygments_lexer": "ipython3",
   "nbconvert_exporter": "python",
   "file_extension": ".py"
  },
  "kernelspec": {
   "name": "python3",
   "display_name": "Python 3.8.10 64-bit"
  },
  "interpreter": {
   "hash": "31f2aee4e71d21fbe5cf8b01ff0e069b9275f58929596ceb00d14d90e3e16cd6"
  }
 },
 "nbformat": 4,
 "nbformat_minor": 2
}