{
 "cells": [
  {
   "cell_type": "code",
   "execution_count": 3,
   "metadata": {},
   "outputs": [
    {
     "output_type": "stream",
     "name": "stdout",
     "text": [
      "15\n13\n"
     ]
    }
   ],
   "source": [
    "x = 358\n",
    "y = 23\n",
    "print(x//y)\n",
    "print(x%y)"
   ]
  },
  {
   "cell_type": "code",
   "execution_count": 2,
   "metadata": {},
   "outputs": [
    {
     "output_type": "stream",
     "name": "stdout",
     "text": [
      "15\n320\n"
     ]
    }
   ],
   "source": [
    "a=5\n",
    "\n",
    "b=10\n",
    "\n",
    "print(a|b)\n",
    "\n",
    "print(b<<a)"
   ]
  },
  {
   "cell_type": "code",
   "execution_count": 4,
   "metadata": {},
   "outputs": [
    {
     "output_type": "error",
     "ename": "SyntaxError",
     "evalue": "invalid syntax (<ipython-input-4-345cf1567540>, line 5)",
     "traceback": [
      "\u001b[0;36m  File \u001b[0;32m\"<ipython-input-4-345cf1567540>\"\u001b[0;36m, line \u001b[0;32m5\u001b[0m\n\u001b[0;31m    x=y+=5\u001b[0m\n\u001b[0m       ^\u001b[0m\n\u001b[0;31mSyntaxError\u001b[0m\u001b[0;31m:\u001b[0m invalid syntax\n"
     ]
    }
   ],
   "source": [
    "x=3\n",
    "\n",
    "y=4\n",
    "\n",
    "x=y+=5\n",
    "\n",
    "print(x)"
   ]
  },
  {
   "cell_type": "code",
   "execution_count": 1,
   "metadata": {},
   "outputs": [
    {
     "output_type": "stream",
     "name": "stdout",
     "text": [
      "Hello World\n"
     ]
    }
   ],
   "source": [
    "print('Hello World')"
   ]
  },
  {
   "cell_type": "code",
   "execution_count": 6,
   "metadata": {},
   "outputs": [
    {
     "output_type": "stream",
     "name": "stdout",
     "text": [
      "0 : 1\n1 : 1\n2 : 2\n3 : 6\n4 : 24\n5 : 120\n6 : 720\n7 : 5040\n8 : 40320\n9 : 362880\n10 : 3628800\n11 : 39916800\n12 : 479001600\n13 : 6227020800\n14 : 87178291200\n15 : 1307674368000\n16 : 20922789888000\n17 : 355687428096000\n18 : 6402373705728000\n19 : 121645100408832000\n"
     ]
    }
   ],
   "source": [
    "def fact(a):\n",
    "    if (a == 1 or a == 0):\n",
    "        return 1\n",
    "    return a * fact(a - 1)\n",
    "\n",
    "for i in range(20):\n",
    "    print(i, ':', fact(i))"
   ]
  },
  {
   "cell_type": "code",
   "execution_count": 4,
   "metadata": {},
   "outputs": [
    {
     "output_type": "stream",
     "name": "stdout",
     "text": [
      "Last Christmas, I gave you my heart but the very next day you gave it away\n\n['Last', 'Christmas,', 'I', 'gave', 'you', 'my', 'heart', 'but', 'the', 'very', 'next', 'day', 'you', 'gave', 'it', 'away']\n\nLast Christmas, I Gave You My Heart But The Very Next Day You Gave It Away \nLAST CHRISTMAS, I GAVE YOU MY HEART BUT THE VERY NEXT DAY YOU GAVE IT AWAY \nLast Christmas, I gave you my heart but the very next day you gave it away\n"
     ]
    }
   ],
   "source": [
    "a = input(\"Enter a string: \")\n",
    "print(a)\n",
    "b = a.split(' ')\n",
    "print()\n",
    "print(b)\n",
    "print()\n",
    "for i in b:\n",
    "    print(i.title(), end=' ')\n",
    "print()\n",
    "for i in b:\n",
    "    print(i.upper(), end=' ')\n",
    "print()\n",
    "print(' '.join(b))"
   ]
  },
  {
   "cell_type": "code",
   "execution_count": 5,
   "metadata": {},
   "outputs": [
    {
     "output_type": "stream",
     "name": "stdout",
     "text": [
      "[1, 2, 3]\n[3]\n[3, 2, 1]\n"
     ]
    }
   ],
   "source": [
    "x=[1, 2, 3]\n",
    "print(x)\n",
    "print(x[-1::])\n",
    "print(x[::-1])"
   ]
  }
 ],
 "metadata": {
  "kernelspec": {
   "display_name": "Python 3",
   "language": "python",
   "name": "python3"
  },
  "language_info": {
   "codemirror_mode": {
    "name": "ipython",
    "version": 3
   },
   "file_extension": ".py",
   "mimetype": "text/x-python",
   "name": "python",
   "nbconvert_exporter": "python",
   "pygments_lexer": "ipython3",
   "version": "3.8.5"
  }
 },
 "nbformat": 4,
 "nbformat_minor": 4
}